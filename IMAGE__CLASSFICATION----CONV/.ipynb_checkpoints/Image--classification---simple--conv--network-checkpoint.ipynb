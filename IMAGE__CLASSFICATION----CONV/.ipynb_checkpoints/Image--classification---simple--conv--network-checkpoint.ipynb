{
 "cells": [
  {
   "cell_type": "code",
   "execution_count": 1,
   "metadata": {},
   "outputs": [
    {
     "name": "stderr",
     "output_type": "stream",
     "text": [
      "Using TensorFlow backend.\n"
     ]
    }
   ],
   "source": [
    "#import all the header files\n",
    "from keras.preprocessing.image import ImageDataGenerator\n",
    "from keras.models import Sequential\n",
    "from keras.layers import Conv2D, MaxPooling2D\n",
    "from keras.layers import Activation, Dropout, Flatten, Dense\n",
    "from keras import backend as K "
   ]
  },
  {
   "cell_type": "code",
   "execution_count": 2,
   "metadata": {},
   "outputs": [],
   "source": [
    "#defining width, height and the respective directories \n",
    "img_width, img_height = 150,150\n",
    "train_data_direc = 'C:\\\\Users\\\\Yoogie\\\\Desktop\\\\data\\\\train'\n",
    "validation_data_direc = 'C:\\\\Users\\\\Yoogie\\\\Desktop\\\\data\\\\validation'\n",
    "no_of_train_images = 1000\n",
    "no_of_validation_images = 400\n",
    "epochs = 10\n",
    "batch_size = 50"
   ]
  },
  {
   "cell_type": "code",
   "execution_count": 3,
   "metadata": {},
   "outputs": [],
   "source": [
    "#check the compatability such as theano or tensorflow from -/keras.json file \n",
    "if K.image_data_format() == 'channels_first':\n",
    "    input_shape = (3, img_width, img_height)\n",
    "else:\n",
    "    imput_shape = (img_width, img_height, 3)"
   ]
  },
  {
   "cell_type": "code",
   "execution_count": 4,
   "metadata": {},
   "outputs": [],
   "source": [
    "#define an model using this statement \n",
    "mymodel = Sequential()"
   ]
  },
  {
   "cell_type": "code",
   "execution_count": 5,
   "metadata": {},
   "outputs": [],
   "source": [
    "#use model_name.add to add corresponding number of layers as required \n",
    "mymodel.add(Conv2D(32,(3,3), input_shape=input_shape))\n",
    "mymodel.add(Activation('relu'))\n",
    "mymodel.add(MaxPooling2D(pool_size=(2, 2)))\n",
    "\n",
    "mymodel.add(Conv2D(32,(3,3)))\n",
    "mymodel.add(Activation('relu'))\n",
    "mymodel.add(MaxPooling2D(pool_size=(2, 2)))\n",
    "\n",
    "mymodel.add(Conv2D(64,(3,3)))\n",
    "mymodel.add(Activation('relu'))\n",
    "mymodel.add(MaxPooling2D(pool_size=(2, 2)))\n",
    "\n",
    "mymodel.add(Flatten())\n",
    "mymodel.add(Dense(64))\n",
    "mymodel.add(Activation('relu'))\n",
    "mymodel.add(Dropout(0.5))\n",
    "mymodel.add(Dense(1))\n",
    "mymodel.add(Activation('sigmoid'))"
   ]
  },
  {
   "cell_type": "code",
   "execution_count": 6,
   "metadata": {},
   "outputs": [],
   "source": [
    "#this statement is used to compile the above mentioned model \n",
    "mymodel.compile(loss='binary_crossentropy', optimizer='adam', metrics=['accuracy'])"
   ]
  },
  {
   "cell_type": "code",
   "execution_count": 7,
   "metadata": {},
   "outputs": [],
   "source": [
    "#you will use this augmentation technique on the train dataset \n",
    "train_single_image = ImageDataGenerator(\n",
    "rescale=1. /255,\n",
    "shear_range = 0.2,\n",
    "zoom_range= 0.2,\n",
    "horizontal_flip=True )"
   ]
  },
  {
   "cell_type": "code",
   "execution_count": 8,
   "metadata": {},
   "outputs": [],
   "source": [
    "#implement only the recaling on the validataion data\n",
    "test_single_image = ImageDataGenerator(rescale= 1. / 255)"
   ]
  },
  {
   "cell_type": "code",
   "execution_count": 9,
   "metadata": {},
   "outputs": [
    {
     "name": "stdout",
     "output_type": "stream",
     "text": [
      "Found 1000 images belonging to 2 classes.\n"
     ]
    }
   ],
   "source": [
    "#no wdo the operation for all the images in the train and the test data \n",
    "trainimages_generator= train_single_image.flow_from_directory(\n",
    "train_data_direc,\n",
    "target_size=(img_width,img_height),\n",
    "batch_size= batch_size,\n",
    "class_mode='binary'    \n",
    ")\n"
   ]
  },
  {
   "cell_type": "code",
   "execution_count": 10,
   "metadata": {},
   "outputs": [
    {
     "name": "stdout",
     "output_type": "stream",
     "text": [
      "Found 400 images belonging to 2 classes.\n"
     ]
    }
   ],
   "source": [
    "#do the same for the validation data \n",
    "validationimages_generator= test_single_image.flow_from_directory(\n",
    "validation_data_direc,\n",
    "target_size=(img_width, img_height),\n",
    "batch_size=batch_size,\n",
    "class_mode='binary',\n",
    ")"
   ]
  },
  {
   "cell_type": "code",
   "execution_count": 11,
   "metadata": {},
   "outputs": [
    {
     "name": "stdout",
     "output_type": "stream",
     "text": [
      "Epoch 1/10\n",
      "20/20 [==============================] - 124s - loss: 0.7225 - acc: 0.5250 - val_loss: 0.6902 - val_acc: 0.5000\n",
      "Epoch 2/10\n",
      "20/20 [==============================] - 113s - loss: 0.6927 - acc: 0.5340 - val_loss: 0.6933 - val_acc: 0.5150\n",
      "Epoch 3/10\n",
      "20/20 [==============================] - 113s - loss: 0.6960 - acc: 0.4930 - val_loss: 0.6927 - val_acc: 0.5000\n",
      "Epoch 4/10\n",
      "20/20 [==============================] - 114s - loss: 0.6922 - acc: 0.5180 - val_loss: 0.6910 - val_acc: 0.5225\n",
      "Epoch 5/10\n",
      "20/20 [==============================] - 115s - loss: 0.6916 - acc: 0.5170 - val_loss: 0.6853 - val_acc: 0.5375\n",
      "Epoch 6/10\n",
      "20/20 [==============================] - 115s - loss: 0.6861 - acc: 0.5530 - val_loss: 0.6748 - val_acc: 0.6400\n",
      "Epoch 7/10\n",
      "20/20 [==============================] - 115s - loss: 0.6698 - acc: 0.5690 - val_loss: 0.6586 - val_acc: 0.6500\n",
      "Epoch 8/10\n",
      "20/20 [==============================] - 137s - loss: 0.6542 - acc: 0.6260 - val_loss: 0.6609 - val_acc: 0.5525\n",
      "Epoch 9/10\n",
      "20/20 [==============================] - 147s - loss: 0.6185 - acc: 0.6730 - val_loss: 0.6194 - val_acc: 0.6400\n",
      "Epoch 10/10\n",
      "20/20 [==============================] - 125s - loss: 0.6244 - acc: 0.6460 - val_loss: 0.6305 - val_acc: 0.5975\n"
     ]
    },
    {
     "data": {
      "text/plain": [
       "<keras.callbacks.History at 0x1441d47feb8>"
      ]
     },
     "execution_count": 11,
     "metadata": {},
     "output_type": "execute_result"
    }
   ],
   "source": [
    "mymodel.fit_generator(\n",
    "trainimages_generator,\n",
    "steps_per_epoch=no_of_train_images // batch_size,\n",
    "epochs= epochs,\n",
    "validation_data=validationimages_generator,\n",
    "validation_steps= no_of_validation_images // batch_size)"
   ]
  },
  {
   "cell_type": "code",
   "execution_count": 12,
   "metadata": {},
   "outputs": [],
   "source": [
    "mymodel.save_weights('firstweight.h5')"
   ]
  },
  {
   "cell_type": "code",
   "execution_count": null,
   "metadata": {},
   "outputs": [],
   "source": []
  },
  {
   "cell_type": "code",
   "execution_count": null,
   "metadata": {},
   "outputs": [],
   "source": []
  }
 ],
 "metadata": {
  "kernelspec": {
   "display_name": "Python 3",
   "language": "python",
   "name": "python3"
  },
  "language_info": {
   "codemirror_mode": {
    "name": "ipython",
    "version": 3
   },
   "file_extension": ".py",
   "mimetype": "text/x-python",
   "name": "python",
   "nbconvert_exporter": "python",
   "pygments_lexer": "ipython3",
   "version": "3.6.3"
  }
 },
 "nbformat": 4,
 "nbformat_minor": 2
}
