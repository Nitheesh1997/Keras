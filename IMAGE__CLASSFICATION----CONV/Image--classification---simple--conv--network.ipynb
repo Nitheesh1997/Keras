{
 "cells": [
  {
   "cell_type": "code",
   "execution_count": 1,
   "metadata": {},
   "outputs": [
    {
     "name": "stderr",
     "output_type": "stream",
     "text": [
      "Using TensorFlow backend.\n"
     ]
    }
   ],
   "source": [
    "#import all the header files\n",
    "from keras.preprocessing.image import ImageDataGenerator\n",
    "from keras.models import Sequential\n",
    "from keras.layers import Conv2D, MaxPooling2D\n",
    "from keras.layers import Activation, Dropout, Flatten, Dense\n",
    "from keras import backend as K "
   ]
  },
  {
   "cell_type": "code",
   "execution_count": 2,
   "metadata": {},
   "outputs": [],
   "source": [
    "#defining width, height and the respective directories \n",
    "img_width, img_height = 150,150\n",
    "train_data_direc = 'C:\\\\Users\\\\Yoogie\\\\Desktop\\\\data\\\\train'\n",
    "validation_data_direc = 'C:\\\\Users\\\\Yoogie\\\\Desktop\\\\data\\\\validation'\n",
    "no_of_train_images = 2000\n",
    "no_of_validation_images = 800\n",
    "epochs = 1\n",
    "batch_size = 400"
   ]
  },
  {
   "cell_type": "code",
   "execution_count": 3,
   "metadata": {},
   "outputs": [],
   "source": [
    "#check the compatability such as theano or tensorflow from -/keras.json file \n",
    "if K.image_data_format() == 'channels_first':\n",
    "    input_shape = (3, img_width, img_height)\n",
    "else:\n",
    "    imput_shape = (img_width, img_height, 3)"
   ]
  },
  {
   "cell_type": "code",
   "execution_count": 4,
   "metadata": {},
   "outputs": [],
   "source": [
    "#define an model using this statement \n",
    "mymodel = Sequential()"
   ]
  },
  {
   "cell_type": "code",
   "execution_count": 5,
   "metadata": {},
   "outputs": [],
   "source": [
    "#use model_name.add to add corresponding number of layers as required \n",
    "mymodel.add(Conv2D(32,(3,3), input_shape=input_shape))\n",
    "mymodel.add(Activation('relu'))\n",
    "mymodel.add(MaxPooling2D(pool_size=(2, 2)))\n",
    "\n",
    "mymodel.add(Conv2D(32,(3,3)))\n",
    "mymodel.add(Activation('relu'))\n",
    "mymodel.add(MaxPooling2D(pool_size=(2, 2)))\n",
    "\n",
    "mymodel.add(Conv2D(64,(3,3)))\n",
    "mymodel.add(Activation('relu'))\n",
    "mymodel.add(MaxPooling2D(pool_size=(2, 2)))\n",
    "\n",
    "mymodel.add(Flatten())\n",
    "mymodel.add(Dense(64))\n",
    "mymodel.add(Activation('relu'))\n",
    "mymodel.add(Dropout(0.5))\n",
    "mymodel.add(Dense(1))\n",
    "mymodel.add(Activation('sigmoid'))"
   ]
  },
  {
   "cell_type": "code",
   "execution_count": 6,
   "metadata": {},
   "outputs": [],
   "source": [
    "#this statement is used to compile the above mentioned model \n",
    "mymodel.compile(loss='binary_crossentropy', optimizer='rmsprop', metrics=['accuracy'])"
   ]
  },
  {
   "cell_type": "code",
   "execution_count": 7,
   "metadata": {},
   "outputs": [],
   "source": [
    "#you will use this augmentation technique on the train dataset \n",
    "train_single_image = ImageDataGenerator(\n",
    "rescale=1. /255,\n",
    "shear_range = 0.2,\n",
    "zoom_range= 0.2,\n",
    "horizontal_flip=True )"
   ]
  },
  {
   "cell_type": "code",
   "execution_count": 8,
   "metadata": {},
   "outputs": [],
   "source": [
    "#implement only the recaling on the validataion data\n",
    "test_single_image = ImageDataGenerator(rescale= 1. / 255)"
   ]
  },
  {
   "cell_type": "code",
   "execution_count": 9,
   "metadata": {},
   "outputs": [
    {
     "name": "stdout",
     "output_type": "stream",
     "text": [
      "Found 2000 images belonging to 2 classes.\n"
     ]
    }
   ],
   "source": [
    "#no wdo the operation for all the images in the train and the test data \n",
    "trainimages_generator= train_single_image.flow_from_directory(\n",
    "train_data_direc,\n",
    "target_size=(img_width,img_height),\n",
    "batch_size= batch_size,\n",
    "class_mode='binary'    \n",
    ")\n"
   ]
  },
  {
   "cell_type": "code",
   "execution_count": 10,
   "metadata": {},
   "outputs": [
    {
     "name": "stdout",
     "output_type": "stream",
     "text": [
      "Found 801 images belonging to 2 classes.\n"
     ]
    }
   ],
   "source": [
    "#do the same for the validation data \n",
    "validationimages_generator= test_single_image.flow_from_directory(\n",
    "validation_data_direc,\n",
    "target_size=(img_width, img_height),\n",
    "batch_size=batch_size,\n",
    "class_mode='binary',\n",
    ")"
   ]
  },
  {
   "cell_type": "code",
   "execution_count": 11,
   "metadata": {},
   "outputs": [
    {
     "name": "stdout",
     "output_type": "stream",
     "text": [
      "Epoch 1/1\n",
      "5/5 [==============================] - 269s - loss: 1.0762 - acc: 0.4980 - val_loss: 0.7855 - val_acc: 0.5012\n"
     ]
    },
    {
     "data": {
      "text/plain": [
       "<keras.callbacks.History at 0x2548a732f28>"
      ]
     },
     "execution_count": 11,
     "metadata": {},
     "output_type": "execute_result"
    }
   ],
   "source": [
    "mymodel.fit_generator(\n",
    "trainimages_generator,\n",
    "steps_per_epoch=no_of_train_images // batch_size,\n",
    "epochs= epochs,\n",
    "validation_data=validationimages_generator,\n",
    "validation_steps= no_of_validation_images // batch_size)"
   ]
  },
  {
   "cell_type": "code",
   "execution_count": 12,
   "metadata": {},
   "outputs": [],
   "source": [
    "mymodel.save_weights('firstweight.h5')"
   ]
  },
  {
   "cell_type": "code",
   "execution_count": null,
   "metadata": {},
   "outputs": [],
   "source": []
  }
 ],
 "metadata": {
  "kernelspec": {
   "display_name": "Python 3",
   "language": "python",
   "name": "python3"
  },
  "language_info": {
   "codemirror_mode": {
    "name": "ipython",
    "version": 3
   },
   "file_extension": ".py",
   "mimetype": "text/x-python",
   "name": "python",
   "nbconvert_exporter": "python",
   "pygments_lexer": "ipython3",
   "version": "3.6.3"
  }
 },
 "nbformat": 4,
 "nbformat_minor": 2
}
