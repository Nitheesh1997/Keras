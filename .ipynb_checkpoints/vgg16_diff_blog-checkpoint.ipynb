{
 "cells": [
  {
   "cell_type": "code",
   "execution_count": 1,
   "metadata": {},
   "outputs": [
    {
     "name": "stderr",
     "output_type": "stream",
     "text": [
      "Using TensorFlow backend.\n"
     ]
    }
   ],
   "source": [
    "from keras.models import Sequential"
   ]
  },
  {
   "cell_type": "code",
   "execution_count": 2,
   "metadata": {},
   "outputs": [],
   "source": [
    "from keras.optimizers import SGD"
   ]
  },
  {
   "cell_type": "code",
   "execution_count": 3,
   "metadata": {},
   "outputs": [],
   "source": [
    "from keras.layers import Input, Dense, Convolution2D, MaxPooling2D, AveragePooling2D, ZeroPadding2D, Dropout, Flatten, merge, Reshape, Activation"
   ]
  },
  {
   "cell_type": "code",
   "execution_count": 4,
   "metadata": {},
   "outputs": [],
   "source": [
    " model = Sequential()"
   ]
  },
  {
   "cell_type": "code",
   "execution_count": 5,
   "metadata": {},
   "outputs": [],
   "source": [
    "def vgg16_model(img_rows, img_cols, channel=1, num_classes=None):\n",
    "    model.add(ZeroPadding2D((1, 1), input_shape=(channel, img_rows, img_cols)))\n",
    "    model.add(Convolution2D(64, 3, 3, activation='relu'))\n",
    "    model.add(ZeroPadding2D((1, 1)))\n",
    "    model.add(Convolution2D(64, 3, 3, activation='relu'))\n",
    "    model.add(MaxPooling2D((2, 2), strides=(2, 2)))\n",
    "\n",
    "    model.add(ZeroPadding2D((1, 1)))\n",
    "    model.add(Convolution2D(128, 3, 3, activation='relu'))\n",
    "    model.add(ZeroPadding2D((1, 1)))\n",
    "    model.add(Convolution2D(128, 3, 3, activation='relu'))\n",
    "    model.add(MaxPooling2D((2, 2), strides=(2, 2)))\n",
    "\n",
    "    model.add(ZeroPadding2D((1, 1)))\n",
    "    model.add(Convolution2D(256, 3, 3, activation='relu'))\n",
    "    model.add(ZeroPadding2D((1, 1)))\n",
    "    model.add(Convolution2D(256, 3, 3, activation='relu'))\n",
    "    model.add(ZeroPadding2D((1, 1)))\n",
    "    model.add(Convolution2D(256, 3, 3, activation='relu'))\n",
    "    model.add(MaxPooling2D((2, 2), strides=(2, 2)))\n",
    "\n",
    "    model.add(ZeroPadding2D((1, 1)))\n",
    "    model.add(Convolution2D(512, 3, 3, activation='relu'))\n",
    "    model.add(ZeroPadding2D((1, 1)))\n",
    "    model.add(Convolution2D(512, 3, 3, activation='relu'))\n",
    "    model.add(ZeroPadding2D((1, 1)))\n",
    "    model.add(Convolution2D(512, 3, 3, activation='relu'))\n",
    "    model.add(MaxPooling2D((2, 2), strides=(2, 2)))\n",
    "\n",
    "    model.add(ZeroPadding2D((1, 1)))\n",
    "    model.add(Convolution2D(512, 3, 3, activation='relu'))\n",
    "    model.add(ZeroPadding2D((1, 1)))\n",
    "    model.add(Convolution2D(512, 3, 3, activation='relu'))\n",
    "    model.add(ZeroPadding2D((1, 1)))\n",
    "    model.add(Convolution2D(512, 3, 3, activation='relu'))\n",
    "    model.add(MaxPooling2D((2, 2), strides=(2, 2)))\n",
    "\n",
    "    # Add Fully Connected Layer\n",
    "    model.add(Flatten())\n",
    "    model.add(Dense(4096, activation='relu'))\n",
    "    model.add(Dropout(0.5))\n",
    "    model.add(Dense(4096, activation='relu'))\n",
    "    model.add(Dropout(0.5))\n",
    "    model.add(Dense(1000, activation='softmax'))\n",
    " # Loads ImageNet pre-trained data\n",
    "    model.load_weights('C:\\\\Users\\\\Yoogie\\\\Downloads\\\\vgg16_weights.h5')\n",
    "# Truncate and replace softmax layer for transfer learning\n",
    "    model.layers.pop()\n",
    "    model.outputs = [model.layers[-1].output]\n",
    "    model.layers[-1].outbound_nodes = []\n",
    "    model.add(Dense(num_classes, activation='softmax'))\n",
    " # Uncomment below to set the first 10 layers to non-trainable (weights will not be updated)\n",
    "    #for layer in model.layers[:10]:\n",
    "    #    layer.trainable = False\n",
    "\n",
    "    # Learning rate is changed to 0.001\n",
    "    sgd = SGD(lr=1e-3, decay=1e-6, momentum=0.9, nesterov=True)\n",
    "    model.compile(optimizer=sgd, loss='categorical_crossentropy', metrics=['accuracy'])\n",
    "\n",
    "    return model"
   ]
  },
  {
   "cell_type": "code",
   "execution_count": 6,
   "metadata": {},
   "outputs": [],
   "source": [
    "if __name__ == '__main__':\n",
    "    img_rows, img_cols = 224, 224 \n",
    "    channel = 3\n",
    "    num_classes = 2\n",
    "    batch_size = 1\n",
    "nb_epoch = 10"
   ]
  },
  {
   "cell_type": "code",
   "execution_count": 10,
   "metadata": {},
   "outputs": [],
   "source": [
    "import cv2, numpy as np \n",
    "im = cv2.resize(cv2.imread('C:\\\\Users\\\\Yoogie\\\\Desktop\\\\cat.1.jpg'), (224, 224)).astype(np.float32)\n",
    "im[:,:,0] -= 103.939\n",
    "im[:,:,1] -= 116.779\n",
    "im[:,:,2] -= 123.68\n",
    "im = im.transpose((2,0,1))\n",
    "im = np.expand_dims(im, axis=0)"
   ]
  },
  {
   "cell_type": "code",
   "execution_count": 11,
   "metadata": {},
   "outputs": [],
   "source": [
    "from sklearn.metrics import log_loss\n",
    "from numpy import array"
   ]
  },
  {
   "cell_type": "code",
   "execution_count": 12,
   "metadata": {},
   "outputs": [
    {
     "data": {
      "text/plain": [
       "array([[[[ -63.93900299,  -61.93900299,  -58.93900299, ...,   75.06099701,\n",
       "            63.06099701,   57.06099701],\n",
       "         [ -62.93900299,  -61.93900299,  -58.93900299, ...,   69.06099701,\n",
       "            60.06099701,   55.06099701],\n",
       "         [ -63.93900299,  -62.93900299,  -60.93900299, ...,   63.06099701,\n",
       "            60.06099701,   61.06099701],\n",
       "         ..., \n",
       "         [ -74.93900299,  -77.93900299,  -81.93900299, ...,  -78.93900299,\n",
       "           -82.93900299,  -70.93900299],\n",
       "         [ -73.93900299,  -76.93900299,  -81.93900299, ...,  -82.93900299,\n",
       "           -81.93900299,  -68.93900299],\n",
       "         [ -73.93900299,  -77.93900299,  -82.93900299, ...,  -68.93900299,\n",
       "           -77.93900299,  -80.93900299]],\n",
       "\n",
       "        [[ -72.77899933,  -72.77899933,  -71.77899933, ...,   90.22100067,\n",
       "            84.22100067,   81.22100067],\n",
       "         [ -71.77899933,  -72.77899933,  -71.77899933, ...,   83.22100067,\n",
       "            80.22100067,   78.22100067],\n",
       "         [ -72.77899933,  -73.77899933,  -74.77899933, ...,   76.22100067,\n",
       "            78.22100067,   81.22100067],\n",
       "         ..., \n",
       "         [ -88.77899933,  -92.77899933,  -95.77899933, ...,  -85.77899933,\n",
       "           -89.77899933,  -77.77899933],\n",
       "         [ -86.77899933,  -90.77899933,  -95.77899933, ...,  -88.77899933,\n",
       "           -87.77899933,  -73.77899933],\n",
       "         [ -87.77899933,  -91.77899933,  -96.77899933, ...,  -73.77899933,\n",
       "           -82.77899933,  -84.77899933]],\n",
       "\n",
       "        [[ -84.68000031,  -83.68000031,  -82.68000031, ...,   85.31999969,\n",
       "            80.31999969,   77.31999969],\n",
       "         [ -83.68000031,  -83.68000031,  -82.68000031, ...,   80.31999969,\n",
       "            76.31999969,   74.31999969],\n",
       "         [ -84.68000031,  -84.68000031,  -85.68000031, ...,   73.31999969,\n",
       "            75.31999969,   78.31999969],\n",
       "         ..., \n",
       "         [ -93.68000031,  -97.68000031, -100.68000031, ...,  -79.68000031,\n",
       "           -83.68000031,  -73.68000031],\n",
       "         [ -91.68000031,  -95.68000031, -100.68000031, ...,  -82.68000031,\n",
       "           -81.68000031,  -69.68000031],\n",
       "         [ -92.68000031,  -96.68000031, -101.68000031, ...,  -67.68000031,\n",
       "           -76.68000031,  -81.68000031]]]], dtype=float32)"
      ]
     },
     "execution_count": 12,
     "metadata": {},
     "output_type": "execute_result"
    }
   ],
   "source": [
    "im"
   ]
  },
  {
   "cell_type": "code",
   "execution_count": null,
   "metadata": {},
   "outputs": [],
   "source": []
  },
  {
   "cell_type": "code",
   "execution_count": null,
   "metadata": {},
   "outputs": [],
   "source": []
  },
  {
   "cell_type": "code",
   "execution_count": null,
   "metadata": {},
   "outputs": [],
   "source": []
  },
  {
   "cell_type": "code",
   "execution_count": null,
   "metadata": {},
   "outputs": [],
   "source": []
  },
  {
   "cell_type": "code",
   "execution_count": null,
   "metadata": {},
   "outputs": [],
   "source": []
  },
  {
   "cell_type": "code",
   "execution_count": null,
   "metadata": {},
   "outputs": [],
   "source": []
  }
 ],
 "metadata": {
  "kernelspec": {
   "display_name": "Python 3",
   "language": "python",
   "name": "python3"
  },
  "language_info": {
   "codemirror_mode": {
    "name": "ipython",
    "version": 3
   },
   "file_extension": ".py",
   "mimetype": "text/x-python",
   "name": "python",
   "nbconvert_exporter": "python",
   "pygments_lexer": "ipython3",
   "version": "3.6.3"
  }
 },
 "nbformat": 4,
 "nbformat_minor": 2
}
