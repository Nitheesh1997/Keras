{
 "cells": [
  {
   "cell_type": "code",
   "execution_count": 1,
   "metadata": {},
   "outputs": [
    {
     "name": "stderr",
     "output_type": "stream",
     "text": [
      "Using TensorFlow backend.\n"
     ]
    }
   ],
   "source": [
    "#import all the header files\n",
    "from keras.preprocessing.image import ImageDataGenerator\n",
    "from keras.models import Sequential\n",
    "from keras.layers import Convolution2D, MaxPooling2D\n",
    "from keras.layers import Activation, Dropout, Flatten, Dense, ZeroPadding2D\n",
    "from keras import backend as K\n",
    "from keras.optimizers import SGD"
   ]
  },
  {
   "cell_type": "code",
   "execution_count": 2,
   "metadata": {},
   "outputs": [],
   "source": [
    "img_width, img_height = 150,150\n",
    "train_data_direc = 'C:\\\\Users\\\\Yoogie\\\\Desktop\\\\data\\\\train'\n",
    "validation_data_direc = 'C:\\\\Users\\\\Yoogie\\\\Desktop\\\\data\\\\validation'\n",
    "no_of_train_images = 1000\n",
    "no_of_validation_images = 400\n",
    "epochs = 10\n",
    "batch_size = 50"
   ]
  },
  {
   "cell_type": "code",
   "execution_count": 3,
   "metadata": {},
   "outputs": [],
   "source": [
    "#check the compatability such as theano or tensorflow from -/keras.json file \n",
    "if K.image_data_format() == 'channels_first':\n",
    "    input_shape = (3, img_width, img_height)\n",
    "else:\n",
    "    imput_shape = (img_width, img_height, 3)"
   ]
  },
  {
   "cell_type": "code",
   "execution_count": 4,
   "metadata": {},
   "outputs": [],
   "source": [
    " model = Sequential()"
   ]
  },
  {
   "cell_type": "code",
   "execution_count": 5,
   "metadata": {},
   "outputs": [
    {
     "name": "stderr",
     "output_type": "stream",
     "text": [
      "C:\\Users\\Yoogie\\Anaconda3\\envs\\tensorflow\\lib\\site-packages\\ipykernel_launcher.py:2: UserWarning: Update your `Conv2D` call to the Keras 2 API: `Conv2D(64, (3, 3), activation=\"relu\")`\n",
      "  \n",
      "C:\\Users\\Yoogie\\Anaconda3\\envs\\tensorflow\\lib\\site-packages\\ipykernel_launcher.py:4: UserWarning: Update your `Conv2D` call to the Keras 2 API: `Conv2D(64, (3, 3), activation=\"relu\")`\n",
      "  after removing the cwd from sys.path.\n",
      "C:\\Users\\Yoogie\\Anaconda3\\envs\\tensorflow\\lib\\site-packages\\ipykernel_launcher.py:8: UserWarning: Update your `Conv2D` call to the Keras 2 API: `Conv2D(128, (3, 3), activation=\"relu\")`\n",
      "  \n",
      "C:\\Users\\Yoogie\\Anaconda3\\envs\\tensorflow\\lib\\site-packages\\ipykernel_launcher.py:10: UserWarning: Update your `Conv2D` call to the Keras 2 API: `Conv2D(128, (3, 3), activation=\"relu\")`\n",
      "  # Remove the CWD from sys.path while we load stuff.\n",
      "C:\\Users\\Yoogie\\Anaconda3\\envs\\tensorflow\\lib\\site-packages\\ipykernel_launcher.py:14: UserWarning: Update your `Conv2D` call to the Keras 2 API: `Conv2D(256, (3, 3), activation=\"relu\")`\n",
      "  \n",
      "C:\\Users\\Yoogie\\Anaconda3\\envs\\tensorflow\\lib\\site-packages\\ipykernel_launcher.py:16: UserWarning: Update your `Conv2D` call to the Keras 2 API: `Conv2D(256, (3, 3), activation=\"relu\")`\n",
      "  app.launch_new_instance()\n",
      "C:\\Users\\Yoogie\\Anaconda3\\envs\\tensorflow\\lib\\site-packages\\ipykernel_launcher.py:18: UserWarning: Update your `Conv2D` call to the Keras 2 API: `Conv2D(256, (3, 3), activation=\"relu\")`\n",
      "C:\\Users\\Yoogie\\Anaconda3\\envs\\tensorflow\\lib\\site-packages\\ipykernel_launcher.py:22: UserWarning: Update your `Conv2D` call to the Keras 2 API: `Conv2D(512, (3, 3), activation=\"relu\")`\n",
      "C:\\Users\\Yoogie\\Anaconda3\\envs\\tensorflow\\lib\\site-packages\\ipykernel_launcher.py:24: UserWarning: Update your `Conv2D` call to the Keras 2 API: `Conv2D(512, (3, 3), activation=\"relu\")`\n",
      "C:\\Users\\Yoogie\\Anaconda3\\envs\\tensorflow\\lib\\site-packages\\ipykernel_launcher.py:26: UserWarning: Update your `Conv2D` call to the Keras 2 API: `Conv2D(512, (3, 3), activation=\"relu\")`\n",
      "C:\\Users\\Yoogie\\Anaconda3\\envs\\tensorflow\\lib\\site-packages\\ipykernel_launcher.py:30: UserWarning: Update your `Conv2D` call to the Keras 2 API: `Conv2D(512, (3, 3), activation=\"relu\")`\n",
      "C:\\Users\\Yoogie\\Anaconda3\\envs\\tensorflow\\lib\\site-packages\\ipykernel_launcher.py:32: UserWarning: Update your `Conv2D` call to the Keras 2 API: `Conv2D(512, (3, 3), activation=\"relu\")`\n",
      "C:\\Users\\Yoogie\\Anaconda3\\envs\\tensorflow\\lib\\site-packages\\ipykernel_launcher.py:34: UserWarning: Update your `Conv2D` call to the Keras 2 API: `Conv2D(512, (3, 3), activation=\"relu\")`\n"
     ]
    }
   ],
   "source": [
    " model.add(ZeroPadding2D((1, 1), input_shape=input_shape))\n",
    " model.add(Convolution2D(64, 3, 3, activation='relu'))\n",
    " model.add(ZeroPadding2D((1, 1)))\n",
    " model.add(Convolution2D(64, 3, 3, activation='relu'))\n",
    " model.add(MaxPooling2D((2, 2), strides=(2, 2)))\n",
    "\n",
    " model.add(ZeroPadding2D((1, 1)))\n",
    " model.add(Convolution2D(128, 3, 3, activation='relu'))\n",
    " model.add(ZeroPadding2D((1, 1)))\n",
    " model.add(Convolution2D(128, 3, 3, activation='relu'))\n",
    " model.add(MaxPooling2D((2, 2), strides=(2, 2)))\n",
    "\n",
    " model.add(ZeroPadding2D((1, 1)))\n",
    " model.add(Convolution2D(256, 3, 3, activation='relu'))\n",
    " model.add(ZeroPadding2D((1, 1)))\n",
    " model.add(Convolution2D(256, 3, 3, activation='relu'))\n",
    " model.add(ZeroPadding2D((1, 1)))\n",
    " model.add(Convolution2D(256, 3, 3, activation='relu'))\n",
    " model.add(MaxPooling2D((2, 2), strides=(2, 2)))\n",
    "\n",
    " model.add(ZeroPadding2D((1, 1)))\n",
    " model.add(Convolution2D(512, 3, 3, activation='relu'))\n",
    " model.add(ZeroPadding2D((1, 1)))\n",
    " model.add(Convolution2D(512, 3, 3, activation='relu'))\n",
    " model.add(ZeroPadding2D((1, 1)))\n",
    " model.add(Convolution2D(512, 3, 3, activation='relu'))\n",
    " model.add(MaxPooling2D((2, 2), strides=(2, 2)))\n",
    "\n",
    " model.add(ZeroPadding2D((1, 1)))\n",
    " model.add(Convolution2D(512, 3, 3, activation='relu'))\n",
    " model.add(ZeroPadding2D((1, 1)))\n",
    " model.add(Convolution2D(512, 3, 3, activation='relu'))\n",
    " model.add(ZeroPadding2D((1, 1)))\n",
    " model.add(Convolution2D(512, 3, 3, activation='relu'))\n",
    " model.add(MaxPooling2D((2, 2), strides=(2, 2)))\n",
    "\n",
    "    # Add Fully Connected Layer\n",
    " model.add(Flatten())\n",
    " model.add(Dense(4096, activation='relu'))\n",
    " model.add(Dropout(0.5))\n",
    " model.add(Dense(4096, activation='relu'))\n",
    " model.add(Dropout(0.5)) \n",
    " model.add(Activation('sigmoid'))  "
   ]
  },
  {
   "cell_type": "code",
   "execution_count": 6,
   "metadata": {},
   "outputs": [],
   "source": [
    "model.compile(loss='sparse_categorical_crossentropy', optimizer='adam', metrics=['accuracy'])"
   ]
  },
  {
   "cell_type": "code",
   "execution_count": 7,
   "metadata": {},
   "outputs": [],
   "source": [
    "#import cv2, numpy as np \n",
    "#im = cv2.resize(cv2.imread('C:\\\\Users\\\\Yoogie\\\\Desktop\\\\cat.1.jpg'), (224, 224)).astype(np.float32)\n",
    "#im[:,:,0] -= 103.939\n",
    "#im[:,:,1] -= 116.779\n",
    "#im[:,:,2] -= 123.68\n",
    "#im = im.transpose((2,0,1))\n",
    "#im = np.expand_dims(im, axis=0)\n",
    "train_single_image = ImageDataGenerator(\n",
    "rescale=1. /255,\n",
    "shear_range = 0.2,\n",
    "zoom_range= 0.2,\n",
    "horizontal_flip=True )"
   ]
  },
  {
   "cell_type": "code",
   "execution_count": 8,
   "metadata": {},
   "outputs": [],
   "source": [
    "#implement only the recaling on the validataion data\n",
    "test_single_image = ImageDataGenerator(rescale= 1. / 255)"
   ]
  },
  {
   "cell_type": "code",
   "execution_count": 9,
   "metadata": {},
   "outputs": [
    {
     "name": "stdout",
     "output_type": "stream",
     "text": [
      "Found 1000 images belonging to 2 classes.\n"
     ]
    }
   ],
   "source": [
    "trainimages_generator= train_single_image.flow_from_directory(\n",
    "train_data_direc,\n",
    "target_size=(img_width,img_height),\n",
    "batch_size= batch_size,\n",
    "class_mode='binary'    \n",
    ")"
   ]
  },
  {
   "cell_type": "code",
   "execution_count": 10,
   "metadata": {},
   "outputs": [
    {
     "name": "stdout",
     "output_type": "stream",
     "text": [
      "Found 400 images belonging to 2 classes.\n"
     ]
    }
   ],
   "source": [
    "validationimages_generator= test_single_image.flow_from_directory(\n",
    "validation_data_direc,\n",
    "target_size=(img_width, img_height),\n",
    "batch_size=batch_size,\n",
    "class_mode='binary',\n",
    ")"
   ]
  },
  {
   "cell_type": "code",
   "execution_count": 11,
   "metadata": {},
   "outputs": [
    {
     "name": "stdout",
     "output_type": "stream",
     "text": [
      "Epoch 1/10\n",
      "20/20 [==============================] - 1371s - loss: 8.1134 - acc: 0.3460 - val_loss: 7.7381 - val_acc: 0.5000\n",
      "Epoch 2/10\n",
      "20/20 [==============================] - 1325s - loss: 8.0559 - acc: 0.3720 - val_loss: 7.7244 - val_acc: 0.5225\n",
      "Epoch 3/10\n",
      "20/20 [==============================] - 1275s - loss: 8.0556 - acc: 0.3770 - val_loss: 7.7218 - val_acc: 0.4850\n",
      "Epoch 4/10\n",
      "20/20 [==============================] - 1270s - loss: 8.0562 - acc: 0.3810 - val_loss: 7.7214 - val_acc: 0.4900\n",
      "Epoch 5/10\n",
      "20/20 [==============================] - 1272s - loss: 8.0645 - acc: 0.3690 - val_loss: 7.7214 - val_acc: 0.5000\n",
      "Epoch 6/10\n",
      "20/20 [==============================] - 1267s - loss: 8.0631 - acc: 0.3620 - val_loss: 7.7214 - val_acc: 0.5075\n",
      "Epoch 7/10\n",
      "20/20 [==============================] - 1265s - loss: 8.0636 - acc: 0.3650 - val_loss: 7.7214 - val_acc: 0.4950\n",
      "Epoch 8/10\n",
      "20/20 [==============================] - 1267s - loss: 8.0563 - acc: 0.3830 - val_loss: 7.7214 - val_acc: 0.4975\n",
      "Epoch 9/10\n",
      "20/20 [==============================] - 1264s - loss: 8.0514 - acc: 0.3930 - val_loss: 7.7214 - val_acc: 0.5000\n",
      "Epoch 10/10\n",
      "20/20 [==============================] - 1265s - loss: 8.0545 - acc: 0.3690 - val_loss: 7.7214 - val_acc: 0.4975\n"
     ]
    },
    {
     "data": {
      "text/plain": [
       "<keras.callbacks.History at 0x1f516923198>"
      ]
     },
     "execution_count": 11,
     "metadata": {},
     "output_type": "execute_result"
    }
   ],
   "source": [
    "model.fit_generator(\n",
    "trainimages_generator,\n",
    "steps_per_epoch=no_of_train_images // batch_size,\n",
    "epochs= epochs,\n",
    "validation_data=validationimages_generator,\n",
    "validation_steps= no_of_validation_images // batch_size)"
   ]
  },
  {
   "cell_type": "code",
   "execution_count": null,
   "metadata": {},
   "outputs": [],
   "source": []
  },
  {
   "cell_type": "code",
   "execution_count": null,
   "metadata": {},
   "outputs": [],
   "source": []
  },
  {
   "cell_type": "code",
   "execution_count": null,
   "metadata": {},
   "outputs": [],
   "source": []
  },
  {
   "cell_type": "code",
   "execution_count": null,
   "metadata": {},
   "outputs": [],
   "source": []
  }
 ],
 "metadata": {
  "kernelspec": {
   "display_name": "Python 3",
   "language": "python",
   "name": "python3"
  },
  "language_info": {
   "codemirror_mode": {
    "name": "ipython",
    "version": 3
   },
   "file_extension": ".py",
   "mimetype": "text/x-python",
   "name": "python",
   "nbconvert_exporter": "python",
   "pygments_lexer": "ipython3",
   "version": "3.6.3"
  }
 },
 "nbformat": 4,
 "nbformat_minor": 2
}
