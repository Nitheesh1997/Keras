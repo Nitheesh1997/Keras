{
 "cells": [
  {
   "cell_type": "code",
   "execution_count": 1,
   "metadata": {},
   "outputs": [
    {
     "name": "stderr",
     "output_type": "stream",
     "text": [
      "Using TensorFlow backend.\n"
     ]
    }
   ],
   "source": [
    "#use appropriate header files \n",
    "from keras.layers import Input, Dense\n",
    "from keras.models import Model\n",
    "from keras.layers import Conv2D, MaxPooling2D, UpSampling2D\n",
    "from keras import backend as K\n",
    "from keras import regularizers\n",
    "from keras.datasets import mnist\n",
    "import numpy as np"
   ]
  },
  {
   "cell_type": "code",
   "execution_count": 2,
   "metadata": {},
   "outputs": [],
   "source": []
  },
  {
   "cell_type": "code",
   "execution_count": 2,
   "metadata": {},
   "outputs": [],
   "source": [
    "#define an encoding dimension \n",
    "encoding_dim=32"
   ]
  },
  {
   "cell_type": "code",
   "execution_count": 3,
   "metadata": {},
   "outputs": [],
   "source": [
    "#this is an input placeholder \n",
    "#input_img = Input(shape=(28, 28, 1))\n",
    "input_img = Input(shape=(784,))"
   ]
  },
  {
   "cell_type": "code",
   "execution_count": 4,
   "metadata": {},
   "outputs": [],
   "source": [
    "# \"encoded\" is the encoded representation of the input\n",
    "encoded = Dense(encoding_dim, activation='relu')(input_img)\n",
    "#encoded = Dense(encoding_dim, activation='relu',\n",
    "               # activity_regularizer=regularizers.l1(10e-5))(input_img)\n",
    "# \"decoded\" is the lossy reconstruction of the input\n",
    "decoded = Dense(784, activation='sigmoid')(encoded)"
   ]
  },
  {
   "cell_type": "code",
   "execution_count": 5,
   "metadata": {},
   "outputs": [],
   "source": [
    "# this model maps an input to its reconstruction\n",
    "\n",
    "autoencoder = Model(input_img, decoded)"
   ]
  },
  {
   "cell_type": "code",
   "execution_count": 6,
   "metadata": {},
   "outputs": [],
   "source": [
    "# this model maps an input to its encoded representation\n",
    "encoder = Model(input_img, encoded)"
   ]
  },
  {
   "cell_type": "code",
   "execution_count": 7,
   "metadata": {},
   "outputs": [],
   "source": [
    "# create a placeholder for an encoded (32-dimensional) input\n",
    "encoded_input = Input(shape=(encoding_dim,))\n",
    "# retrieve the last layer of the autoencoder model\n",
    "decoder_layer = autoencoder.layers[-1]\n",
    "# create the decoder model\n",
    "decoder = Model(encoded_input, decoder_layer(encoded_input))"
   ]
  },
  {
   "cell_type": "code",
   "execution_count": 8,
   "metadata": {},
   "outputs": [],
   "source": [
    "autoencoder.compile(optimizer='adadelta', loss='binary_crossentropy')"
   ]
  },
  {
   "cell_type": "code",
   "execution_count": 9,
   "metadata": {},
   "outputs": [],
   "source": [
    "(x_train, _), (x_test, _) = mnist.load_data()"
   ]
  },
  {
   "cell_type": "code",
   "execution_count": 10,
   "metadata": {},
   "outputs": [],
   "source": [
    "x_train = x_train.astype('float32') / 255.\n",
    "x_test = x_test.astype('float32') / 255.\n",
    "x_train = x_train.reshape((len(x_train), np.prod(x_train.shape[1:])))\n",
    "x_test = x_test.reshape((len(x_test), np.prod(x_test.shape[1:])))"
   ]
  },
  {
   "cell_type": "code",
   "execution_count": 7,
   "metadata": {},
   "outputs": [],
   "source": [
    "from keras.callbacks import TensorBoard"
   ]
  },
  {
   "cell_type": "code",
   "execution_count": 11,
   "metadata": {},
   "outputs": [
    {
     "name": "stdout",
     "output_type": "stream",
     "text": [
      "Train on 60000 samples, validate on 10000 samples\n",
      "Epoch 1/50\n",
      "60000/60000 [==============================] - 3s - loss: 0.3255 - val_loss: 0.2576\n",
      "Epoch 2/50\n",
      "60000/60000 [==============================] - 3s - loss: 0.2388 - val_loss: 0.2191\n",
      "Epoch 3/50\n",
      "60000/60000 [==============================] - 3s - loss: 0.2074 - val_loss: 0.1950\n",
      "Epoch 4/50\n",
      "60000/60000 [==============================] - 3s - loss: 0.1891 - val_loss: 0.1811\n",
      "Epoch 5/50\n",
      "60000/60000 [==============================] - 3s - loss: 0.1778 - val_loss: 0.1717\n",
      "Epoch 6/50\n",
      "60000/60000 [==============================] - 3s - loss: 0.1693 - val_loss: 0.1640\n",
      "Epoch 7/50\n",
      "60000/60000 [==============================] - 2s - loss: 0.1621 - val_loss: 0.1574\n",
      "Epoch 8/50\n",
      "60000/60000 [==============================] - 2s - loss: 0.1557 - val_loss: 0.1514\n",
      "Epoch 9/50\n",
      "60000/60000 [==============================] - 2s - loss: 0.1501 - val_loss: 0.1460\n",
      "Epoch 10/50\n",
      "60000/60000 [==============================] - 2s - loss: 0.1450 - val_loss: 0.1412\n",
      "Epoch 11/50\n",
      "60000/60000 [==============================] - 2s - loss: 0.1404 - val_loss: 0.1367\n",
      "Epoch 12/50\n",
      "60000/60000 [==============================] - 2s - loss: 0.1362 - val_loss: 0.1327\n",
      "Epoch 13/50\n",
      "60000/60000 [==============================] - 2s - loss: 0.1323 - val_loss: 0.1288\n",
      "Epoch 14/50\n",
      "60000/60000 [==============================] - 2s - loss: 0.1286 - val_loss: 0.1253\n",
      "Epoch 15/50\n",
      "60000/60000 [==============================] - 2s - loss: 0.1252 - val_loss: 0.1220\n",
      "Epoch 16/50\n",
      "60000/60000 [==============================] - 2s - loss: 0.1220 - val_loss: 0.1189\n",
      "Epoch 17/50\n",
      "60000/60000 [==============================] - 2s - loss: 0.1191 - val_loss: 0.1161\n",
      "Epoch 18/50\n",
      "60000/60000 [==============================] - 2s - loss: 0.1165 - val_loss: 0.1136\n",
      "Epoch 19/50\n",
      "60000/60000 [==============================] - 2s - loss: 0.1142 - val_loss: 0.1115\n",
      "Epoch 20/50\n",
      "60000/60000 [==============================] - 2s - loss: 0.1122 - val_loss: 0.1096\n",
      "Epoch 21/50\n",
      "60000/60000 [==============================] - 2s - loss: 0.1104 - val_loss: 0.1079\n",
      "Epoch 22/50\n",
      "60000/60000 [==============================] - 2s - loss: 0.1088 - val_loss: 0.1065\n",
      "Epoch 23/50\n",
      "60000/60000 [==============================] - 2s - loss: 0.1075 - val_loss: 0.1052\n",
      "Epoch 24/50\n",
      "60000/60000 [==============================] - 2s - loss: 0.1063 - val_loss: 0.1041\n",
      "Epoch 25/50\n",
      "60000/60000 [==============================] - 2s - loss: 0.1053 - val_loss: 0.1032\n",
      "Epoch 26/50\n",
      "60000/60000 [==============================] - 2s - loss: 0.1043 - val_loss: 0.1023\n",
      "Epoch 27/50\n",
      "60000/60000 [==============================] - 2s - loss: 0.1035 - val_loss: 0.1016\n",
      "Epoch 28/50\n",
      "60000/60000 [==============================] - 2s - loss: 0.1028 - val_loss: 0.1009\n",
      "Epoch 29/50\n",
      "60000/60000 [==============================] - 2s - loss: 0.1022 - val_loss: 0.1003\n",
      "Epoch 30/50\n",
      "60000/60000 [==============================] - 2s - loss: 0.1016 - val_loss: 0.0998\n",
      "Epoch 31/50\n",
      "60000/60000 [==============================] - 2s - loss: 0.1011 - val_loss: 0.0993\n",
      "Epoch 32/50\n",
      "60000/60000 [==============================] - 2s - loss: 0.1006 - val_loss: 0.0989\n",
      "Epoch 33/50\n",
      "60000/60000 [==============================] - 2s - loss: 0.1003 - val_loss: 0.0985\n",
      "Epoch 34/50\n",
      "60000/60000 [==============================] - 2s - loss: 0.0999 - val_loss: 0.0982\n",
      "Epoch 35/50\n",
      "60000/60000 [==============================] - 2s - loss: 0.0996 - val_loss: 0.0979\n",
      "Epoch 36/50\n",
      "60000/60000 [==============================] - 3s - loss: 0.0993 - val_loss: 0.0977\n",
      "Epoch 37/50\n",
      "60000/60000 [==============================] - 3s - loss: 0.0990 - val_loss: 0.0974\n",
      "Epoch 38/50\n",
      "60000/60000 [==============================] - 3s - loss: 0.0988 - val_loss: 0.0972\n",
      "Epoch 39/50\n",
      "60000/60000 [==============================] - 3s - loss: 0.0986 - val_loss: 0.0970\n",
      "Epoch 40/50\n",
      "60000/60000 [==============================] - 3s - loss: 0.0984 - val_loss: 0.0968\n",
      "Epoch 41/50\n",
      "60000/60000 [==============================] - 3s - loss: 0.0982 - val_loss: 0.0966\n",
      "Epoch 42/50\n",
      "60000/60000 [==============================] - 3s - loss: 0.0981 - val_loss: 0.0965\n",
      "Epoch 43/50\n",
      "60000/60000 [==============================] - 3s - loss: 0.0979 - val_loss: 0.0964\n",
      "Epoch 44/50\n",
      "60000/60000 [==============================] - 3s - loss: 0.0978 - val_loss: 0.0962\n",
      "Epoch 45/50\n",
      "60000/60000 [==============================] - 3s - loss: 0.0976 - val_loss: 0.0961\n",
      "Epoch 46/50\n",
      "60000/60000 [==============================] - 3s - loss: 0.0975 - val_loss: 0.0960\n",
      "Epoch 47/50\n",
      "60000/60000 [==============================] - 3s - loss: 0.0974 - val_loss: 0.0959\n",
      "Epoch 48/50\n",
      "60000/60000 [==============================] - 3s - loss: 0.0973 - val_loss: 0.0958\n",
      "Epoch 49/50\n",
      "60000/60000 [==============================] - 3s - loss: 0.0972 - val_loss: 0.0957\n",
      "Epoch 50/50\n",
      "60000/60000 [==============================] - 3s - loss: 0.0971 - val_loss: 0.0956\n"
     ]
    },
    {
     "data": {
      "text/plain": [
       "<keras.callbacks.History at 0x21279317f60>"
      ]
     },
     "execution_count": 11,
     "metadata": {},
     "output_type": "execute_result"
    }
   ],
   "source": [
    "autoencoder.fit(x_train, x_train,\n",
    "                epochs=50,\n",
    "                batch_size=128,\n",
    "                shuffle=True,\n",
    "                validation_data=(x_test, x_test),\n",
    "                )"
   ]
  },
  {
   "cell_type": "code",
   "execution_count": 12,
   "metadata": {},
   "outputs": [],
   "source": [
    "encoded_imgs = encoder.predict(x_test)\n",
    "decoded_imgs = decoder.predict(encoded_imgs)"
   ]
  },
  {
   "cell_type": "code",
   "execution_count": 13,
   "metadata": {},
   "outputs": [],
   "source": [
    "import matplotlib.pyplot as plt"
   ]
  },
  {
   "cell_type": "code",
   "execution_count": 14,
   "metadata": {},
   "outputs": [
    {
     "data": {
      "image/png": "[encoded data removed]",
      "text/plain": [
       "<matplotlib.figure.Figure at 0x21205b1d748>"
      ]
     },
     "metadata": {},
     "output_type": "display_data"
    }
   ],
   "source": [
    "n = 10  # how many digits we will display\n",
    "plt.figure(figsize=(20, 4))\n",
    "for i in range(n):\n",
    "    # display original\n",
    "    ax = plt.subplot(2, n, i + 1)\n",
    "    plt.imshow(x_test[i].reshape(28, 28))\n",
    "    plt.gray()\n",
    "    ax.get_xaxis().set_visible(False)\n",
    "    ax.get_yaxis().set_visible(False)\n",
    "\n",
    "    # display reconstruction\n",
    "    ax = plt.subplot(2, n, i + 1 + n)\n",
    "    plt.imshow(decoded_imgs[i].reshape(28, 28))\n",
    "    plt.gray()\n",
    "    ax.get_xaxis().set_visible(False)\n",
    "    ax.get_yaxis().set_visible(False)\n",
    "plt.show()"
   ]
  },
  {
   "cell_type": "code",
   "execution_count": null,
   "metadata": {},
   "outputs": [],
   "source": []
  }
 ],
 "metadata": {
  "kernelspec": {
   "display_name": "Python 3",
   "language": "python",
   "name": "python3"
  },
  "language_info": {
   "codemirror_mode": {
    "name": "ipython",
    "version": 3
   },
   "file_extension": ".py",
   "mimetype": "text/x-python",
   "name": "python",
   "nbconvert_exporter": "python",
   "pygments_lexer": "ipython3",
   "version": "3.6.3"
  }
 },
 "nbformat": 4,
 "nbformat_minor": 2
}
